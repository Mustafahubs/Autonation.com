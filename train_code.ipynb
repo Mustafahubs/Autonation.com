{
 "cells": [
  {
   "cell_type": "code",
   "execution_count": 4,
   "metadata": {},
   "outputs": [],
   "source": [
    "from Automations import PopularDefs\n",
    "from requests import session\n",
    "from lxml.html import fromstring\n",
    "import json,time\n",
    "from selenium.webdriver.common.keys import Keys\n",
    "from urllib.parse import urlparse, parse_qs\n",
    "\n",
    "from selenium import webdriver"
   ]
  },
  {
   "cell_type": "code",
   "execution_count": 2,
   "metadata": {},
   "outputs": [],
   "source": [
    "pd = PopularDefs()"
   ]
  },
  {
   "cell_type": "code",
   "execution_count": 3,
   "metadata": {},
   "outputs": [],
   "source": [
    "driver = pd.browserChrome(kill=True,default=True)\n",
    "pd.setDriver(driver)"
   ]
  },
  {
   "cell_type": "code",
   "execution_count": null,
   "metadata": {},
   "outputs": [],
   "source": [
    "webdriver.Remote()"
   ]
  },
  {
   "cell_type": "code",
   "execution_count": null,
   "metadata": {},
   "outputs": [],
   "source": [
    "from selenium import webdriver\n",
    "\n",
    "remote_driver_url = 'http://<server-ip>:4444/wd/hub'\n",
    "driver = webdriver.Remote(command_executor=remote_driver_url, desired_capabilities={'browserName': 'chrome'})\n"
   ]
  },
  {
   "cell_type": "code",
   "execution_count": null,
   "metadata": {},
   "outputs": [],
   "source": [
    "def get_saved_searches():\n",
    "    with open('saved_searches.txt') as url_file:\n",
    "        saved_searches = url_file.read().splitlines()\n",
    "    return saved_searches\n",
    "\n",
    "saved_searches = get_saved_searches()"
   ]
  },
  {
   "cell_type": "code",
   "execution_count": null,
   "metadata": {},
   "outputs": [],
   "source": [
    "search_url = saved_searches[0]\n",
    "search_url"
   ]
  },
  {
   "cell_type": "code",
   "execution_count": null,
   "metadata": {},
   "outputs": [],
   "source": [
    "driver.get(search_url)"
   ]
  },
  {
   "cell_type": "code",
   "execution_count": null,
   "metadata": {},
   "outputs": [],
   "source": [
    "# def get_searchBookmarkId(search_url):\n",
    "#     parsed_url = urlparse(search_url)\n",
    "#     query_params = parse_qs(parsed_url.query)\n",
    "#     search_bookmark_id = query_params.get('searchBookmarkId', [None])[0]\n",
    "\n",
    "#     print(\"Search Bookmark ID:\", search_bookmark_id)\n",
    "#     return search_bookmark_id\n",
    "\n",
    "# get_searchBookmarkId(search_url)"
   ]
  },
  {
   "cell_type": "code",
   "execution_count": null,
   "metadata": {},
   "outputs": [],
   "source": [
    "# zip_code = parse_qs(urlparse(search_url).query).get('zip', [None])[0]\n",
    "# zip_code"
   ]
  },
  {
   "cell_type": "code",
   "execution_count": null,
   "metadata": {},
   "outputs": [],
   "source": [
    "car_items_xpath = '//div[@class=\"results cl-results-page\"]/ol/li'\n",
    "car_items = pd.webAction(xpath=car_items_xpath, listElements=True)\n",
    "# car_items"
   ]
  },
  {
   "cell_type": "code",
   "execution_count": null,
   "metadata": {},
   "outputs": [],
   "source": [
    "for item in car_items:\n",
    "    listting_id = item.get_attribute('data-pid')\n",
    "    title = item.get_attribute('title')\n",
    "    listing_url_tag = item.find_elements('xpath','.//a[@class=\"main\"]')\n",
    "    listing_url = listing_url_tag[0].get_attribute('href') if listing_url_tag else 'No-Listing-URL'\n",
    "    price_tag = item.find_elements('xpath','.//span[@class=\"priceinfo\"]')\n",
    "    price = price_tag[0].text if price_tag else 'No-Price'\n",
    "    \n",
    "    meta_tag = item.find_elements('xpath','.//div[@class=\"meta\"]')\n",
    "    meta_data = meta_tag[0].text if meta_tag else 'No-Meta-Data'\n",
    "    print(meta_data)"
   ]
  },
  {
   "cell_type": "code",
   "execution_count": null,
   "metadata": {},
   "outputs": [],
   "source": [
    "from random import randint,uniform\n",
    "import time\n",
    "def countdown(t):\n",
    "    '''A function for countdown time for a dealy after completion of on cycle'''\n",
    "    print('[Delay] - Countdown Started')\n",
    "    t=t*60\n",
    "    while t>=0:\n",
    "        mins, secs = divmod(t, 60)\n",
    "        # timeformat = '{:02d}:{:02d}'.format(mins, secs)\n",
    "        timeformat = '{:02.0f}:{:02.0f}'.format(mins, secs)  # Use {:02.0f} for float numbers\n",
    "        print(timeformat, end='\\r')\n",
    "        time.sleep(1)\n",
    "        t -= 1\n",
    "    print('Completed')"
   ]
  },
  {
   "cell_type": "code",
   "execution_count": null,
   "metadata": {},
   "outputs": [],
   "source": [
    "t = uniform(0.5,0.8)\n",
    "countdown(t)"
   ]
  },
  {
   "cell_type": "code",
   "execution_count": 1,
   "metadata": {},
   "outputs": [
    {
     "name": "stdout",
     "output_type": "stream",
     "text": [
      "Hashed link: a669fa5af5b155f48a8b79accc082b48fbf5650a92bc3492d39891a389c443cd\n"
     ]
    }
   ],
   "source": [
    "import hashlib\n",
    "\n",
    "link = \"https://richmondin.craigslist.org/search/bath-in/cta?lat=39.4928&lon=-84.9564&max_auto_miles=80000&max_auto_year=2013&min_auto_miles=500&min_auto_year=1985&search_distance=980&sort=date#search=1~gallery~0~0\"\n",
    "\n",
    "# Hash the link using SHA-256\n",
    "hashed_link = hashlib.sha256(link.encode()).hexdigest()\n",
    "\n",
    "print(\"Hashed link:\", hashed_link)\n"
   ]
  },
  {
   "cell_type": "code",
   "execution_count": 12,
   "metadata": {},
   "outputs": [
    {
     "name": "stdout",
     "output_type": "stream",
     "text": [
      "Shortened hashed link: f119acef7ff04a81569ccecf86439068\n"
     ]
    }
   ],
   "source": [
    "import hashlib\n",
    "\n",
    "link = \"https://richmondin.craigslist.org/search/bath-in/cta?lat=39.4928&lon=-84.9564&max_auto_miles=80000&max_auto_year=2013&min_auto_miles=500&min_auto_year=1985&search_distance=980&sort=date#search=1~gallery~0~0\"\n",
    "\n",
    "# Hash the link using MD5\n",
    "hashed_link = hashlib.md5(link.encode()).hexdigest()\n",
    "\n",
    "# Truncate the hash to a shorter length (e.g., first 8 characters)\n",
    "short_hashed_link = hashed_link\n",
    "\n",
    "print(\"Shortened hashed link:\", short_hashed_link)\n"
   ]
  },
  {
   "cell_type": "code",
   "execution_count": null,
   "metadata": {},
   "outputs": [],
   "source": []
  }
 ],
 "metadata": {
  "kernelspec": {
   "display_name": "Python 3",
   "language": "python",
   "name": "python3"
  },
  "language_info": {
   "codemirror_mode": {
    "name": "ipython",
    "version": 3
   },
   "file_extension": ".py",
   "mimetype": "text/x-python",
   "name": "python",
   "nbconvert_exporter": "python",
   "pygments_lexer": "ipython3",
   "version": "3.11.3"
  }
 },
 "nbformat": 4,
 "nbformat_minor": 2
}
