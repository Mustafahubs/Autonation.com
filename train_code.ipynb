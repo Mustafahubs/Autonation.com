{
 "cells": [
  {
   "cell_type": "code",
   "execution_count": null,
   "metadata": {},
   "outputs": [],
   "source": [
    "from Automations import PopularDefs\n",
    "from requests import session\n",
    "from lxml.html import fromstring\n",
    "import json,time\n",
    "from selenium.webdriver.common.keys import Keys\n",
    "from urllib.parse import urlparse, parse_qs\n",
    "from selenium import webdriver"
   ]
  },
  {
   "cell_type": "code",
   "execution_count": null,
   "metadata": {},
   "outputs": [],
   "source": [
    "pd = PopularDefs()"
   ]
  },
  {
   "cell_type": "code",
   "execution_count": null,
   "metadata": {},
   "outputs": [],
   "source": [
    "driver = pd.browserChrome(kill=True,default=True)\n",
    "pd.setDriver(driver)"
   ]
  },
  {
   "cell_type": "code",
   "execution_count": null,
   "metadata": {},
   "outputs": [],
   "source": [
    "def get_saved_searches():\n",
    "    with open('saved_searches.txt') as url_file:\n",
    "        saved_searches = url_file.read().splitlines()\n",
    "    return saved_searches\n",
    "\n",
    "saved_searches = get_saved_searches()"
   ]
  },
  {
   "cell_type": "code",
   "execution_count": null,
   "metadata": {},
   "outputs": [],
   "source": [
    "search_url = saved_searches[0]\n",
    "search_url"
   ]
  },
  {
   "cell_type": "code",
   "execution_count": null,
   "metadata": {},
   "outputs": [],
   "source": [
    "driver.get(search_url)"
   ]
  },
  {
   "cell_type": "code",
   "execution_count": null,
   "metadata": {},
   "outputs": [],
   "source": [
    "# def get_searchBookmarkId(search_url):\n",
    "#     parsed_url = urlparse(search_url)\n",
    "#     query_params = parse_qs(parsed_url.query)\n",
    "#     search_bookmark_id = query_params.get('searchBookmarkId', [None])[0]\n",
    "\n",
    "#     print(\"Search Bookmark ID:\", search_bookmark_id)\n",
    "#     return search_bookmark_id\n",
    "\n",
    "# get_searchBookmarkId(search_url)"
   ]
  },
  {
   "cell_type": "code",
   "execution_count": null,
   "metadata": {},
   "outputs": [],
   "source": [
    "# zip_code = parse_qs(urlparse(search_url).query).get('zip', [None])[0]\n",
    "# zip_code"
   ]
  },
  {
   "cell_type": "code",
   "execution_count": null,
   "metadata": {},
   "outputs": [],
   "source": [
    "car_items_xpath = '//an-srp-results//ansrp-srp-tile-v3'\n",
    "car_items = pd.webAction(xpath=car_items_xpath, listElements=True)\n",
    "# car_items"
   ]
  },
  {
   "cell_type": "code",
   "execution_count": null,
   "metadata": {},
   "outputs": [],
   "source": [
    "for item in car_items:\n",
    "    listting_id = item.get_attribute('id')\n",
    "    title = item.find_elements('xpath', './/div[@class=\"tile-info\"]/a/h3')\n",
    "    title = title[0].text if title else 'No-Title'\n",
    "    listing_url_tag = item.find_elements('xpath','.//div[@class=\"tile-info\"]/a')\n",
    "    listing_url = listing_url_tag[0].get_attribute('href') if listing_url_tag else 'No-Listing-URL'\n",
    "    price_tag = item.find_elements('xpath','.//div[@class=\"tile-info\"]//div[@class=\"price\"]')\n",
    "    price = price_tag[0].text if price_tag else 'No-Price'\n",
    "    mileage_tag = item.find_elements('xpath','.//div[@class=\"tile-info\"]//span[@class=\"vehicle-mileage\"]')\n",
    "    mileage = mileage_tag[0].text if mileage_tag else 'No-Mileage'\n",
    "    \n",
    "    # img_tag = item.find_elements('xpath','.//div[@class=\"tile-image\"]//img')\n",
    "    # img_url = img_tag[0].get_attribute('src') if img_tag else 'No-Meta-Data'\n",
    "    print(mileage)"
   ]
  },
  {
   "cell_type": "code",
   "execution_count": null,
   "metadata": {},
   "outputs": [],
   "source": [
    "from random import randint,uniform\n",
    "import time\n",
    "def countdown(t):\n",
    "    '''A function for countdown time for a dealy after completion of on cycle'''\n",
    "    print('[Delay] - Countdown Started')\n",
    "    t=t*60\n",
    "    while t>=0:\n",
    "        mins, secs = divmod(t, 60)\n",
    "        # timeformat = '{:02d}:{:02d}'.format(mins, secs)\n",
    "        timeformat = '{:02.0f}:{:02.0f}'.format(mins, secs)  # Use {:02.0f} for float numbers\n",
    "        print(timeformat, end='\\r')\n",
    "        time.sleep(1)\n",
    "        t -= 1\n",
    "    print('Completed')"
   ]
  },
  {
   "cell_type": "code",
   "execution_count": null,
   "metadata": {},
   "outputs": [],
   "source": [
    "t = uniform(0.5,0.8)\n",
    "countdown(t)"
   ]
  },
  {
   "cell_type": "code",
   "execution_count": 19,
   "metadata": {},
   "outputs": [
    {
     "name": "stdout",
     "output_type": "stream",
     "text": [
      "Shortened hashed link: 532f456bc153ff5905195874c1cb12ac\n"
     ]
    }
   ],
   "source": [
    "import hashlib\n",
    "\n",
    "link = \"https://www.autonation.com/cars-for-sale?zip=19099&sortby=mileage&sortdirection=0&yr=nomin%7C2009&pagesize=72\"\n",
    "\n",
    "# Hash the link using MD5\n",
    "hashed_link = hashlib.md5(link.encode()).hexdigest()\n",
    "\n",
    "# Truncate the hash to a shorter length (e.g., first 8 characters)\n",
    "short_hashed_link = hashed_link\n",
    "\n",
    "print(\"Shortened hashed link:\", short_hashed_link)\n"
   ]
  },
  {
   "cell_type": "code",
   "execution_count": null,
   "metadata": {},
   "outputs": [],
   "source": []
  }
 ],
 "metadata": {
  "kernelspec": {
   "display_name": "Python 3",
   "language": "python",
   "name": "python3"
  },
  "language_info": {
   "codemirror_mode": {
    "name": "ipython",
    "version": 3
   },
   "file_extension": ".py",
   "mimetype": "text/x-python",
   "name": "python",
   "nbconvert_exporter": "python",
   "pygments_lexer": "ipython3",
   "version": "3.12.2"
  }
 },
 "nbformat": 4,
 "nbformat_minor": 2
}
